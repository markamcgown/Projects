{
 "cells": [
  {
   "cell_type": "code",
   "execution_count": 1,
   "metadata": {},
   "outputs": [
    {
     "ename": "FileNotFoundError",
     "evalue": "[Errno 2] File b'train_users_2.csv' does not exist: b'train_users_2.csv'",
     "output_type": "error",
     "traceback": [
      "\u001b[1;31m---------------------------------------------------------------------------\u001b[0m",
      "\u001b[1;31mFileNotFoundError\u001b[0m                         Traceback (most recent call last)",
      "\u001b[1;32m<ipython-input-1-25cdb8a50bff>\u001b[0m in \u001b[0;36m<module>\u001b[1;34m\u001b[0m\n\u001b[0;32m      7\u001b[0m \u001b[1;32mimport\u001b[0m \u001b[0mwarnings\u001b[0m\u001b[1;33m\u001b[0m\u001b[1;33m\u001b[0m\u001b[0m\n\u001b[0;32m      8\u001b[0m \u001b[0mwarnings\u001b[0m\u001b[1;33m.\u001b[0m\u001b[0mfilterwarnings\u001b[0m\u001b[1;33m(\u001b[0m\u001b[1;34m\"ignore\"\u001b[0m\u001b[1;33m)\u001b[0m\u001b[1;33m\u001b[0m\u001b[1;33m\u001b[0m\u001b[0m\n\u001b[1;32m----> 9\u001b[1;33m \u001b[0mtrain_users\u001b[0m \u001b[1;33m=\u001b[0m \u001b[0mpd\u001b[0m\u001b[1;33m.\u001b[0m\u001b[0mread_csv\u001b[0m\u001b[1;33m(\u001b[0m\u001b[1;34m\"train_users_2.csv\"\u001b[0m\u001b[1;33m)\u001b[0m \u001b[1;31m#https://github.com/FraPochetti/Airbnb/blob/master/data/train_users_2.csv\u001b[0m\u001b[1;33m\u001b[0m\u001b[1;33m\u001b[0m\u001b[0m\n\u001b[0m\u001b[0;32m     10\u001b[0m \u001b[0mtest_users\u001b[0m \u001b[1;33m=\u001b[0m \u001b[0mpd\u001b[0m\u001b[1;33m.\u001b[0m\u001b[0mread_csv\u001b[0m\u001b[1;33m(\u001b[0m\u001b[1;34m\"test_users.csv\"\u001b[0m\u001b[1;33m)\u001b[0m\u001b[1;33m\u001b[0m\u001b[1;33m\u001b[0m\u001b[0m\n\u001b[0;32m     11\u001b[0m \u001b[0mdf\u001b[0m \u001b[1;33m=\u001b[0m \u001b[0mpd\u001b[0m\u001b[1;33m.\u001b[0m\u001b[0mconcat\u001b[0m\u001b[1;33m(\u001b[0m\u001b[1;33m(\u001b[0m\u001b[0mtrain_users\u001b[0m\u001b[1;33m,\u001b[0m \u001b[0mtest_users\u001b[0m\u001b[1;33m)\u001b[0m\u001b[1;33m,\u001b[0m \u001b[0maxis\u001b[0m \u001b[1;33m=\u001b[0m \u001b[1;36m0\u001b[0m\u001b[1;33m,\u001b[0m \u001b[0mignore_index\u001b[0m \u001b[1;33m=\u001b[0m \u001b[1;32mTrue\u001b[0m\u001b[1;33m,\u001b[0m \u001b[0msort\u001b[0m \u001b[1;33m=\u001b[0m \u001b[1;32mTrue\u001b[0m\u001b[1;33m)\u001b[0m\u001b[1;33m\u001b[0m\u001b[1;33m\u001b[0m\u001b[0m\n",
      "\u001b[1;32m~\\AppData\\Local\\Continuum\\anaconda3\\lib\\site-packages\\pandas\\io\\parsers.py\u001b[0m in \u001b[0;36mparser_f\u001b[1;34m(filepath_or_buffer, sep, delimiter, header, names, index_col, usecols, squeeze, prefix, mangle_dupe_cols, dtype, engine, converters, true_values, false_values, skipinitialspace, skiprows, skipfooter, nrows, na_values, keep_default_na, na_filter, verbose, skip_blank_lines, parse_dates, infer_datetime_format, keep_date_col, date_parser, dayfirst, iterator, chunksize, compression, thousands, decimal, lineterminator, quotechar, quoting, doublequote, escapechar, comment, encoding, dialect, tupleize_cols, error_bad_lines, warn_bad_lines, delim_whitespace, low_memory, memory_map, float_precision)\u001b[0m\n\u001b[0;32m    700\u001b[0m                     skip_blank_lines=skip_blank_lines)\n\u001b[0;32m    701\u001b[0m \u001b[1;33m\u001b[0m\u001b[0m\n\u001b[1;32m--> 702\u001b[1;33m         \u001b[1;32mreturn\u001b[0m \u001b[0m_read\u001b[0m\u001b[1;33m(\u001b[0m\u001b[0mfilepath_or_buffer\u001b[0m\u001b[1;33m,\u001b[0m \u001b[0mkwds\u001b[0m\u001b[1;33m)\u001b[0m\u001b[1;33m\u001b[0m\u001b[1;33m\u001b[0m\u001b[0m\n\u001b[0m\u001b[0;32m    703\u001b[0m \u001b[1;33m\u001b[0m\u001b[0m\n\u001b[0;32m    704\u001b[0m     \u001b[0mparser_f\u001b[0m\u001b[1;33m.\u001b[0m\u001b[0m__name__\u001b[0m \u001b[1;33m=\u001b[0m \u001b[0mname\u001b[0m\u001b[1;33m\u001b[0m\u001b[1;33m\u001b[0m\u001b[0m\n",
      "\u001b[1;32m~\\AppData\\Local\\Continuum\\anaconda3\\lib\\site-packages\\pandas\\io\\parsers.py\u001b[0m in \u001b[0;36m_read\u001b[1;34m(filepath_or_buffer, kwds)\u001b[0m\n\u001b[0;32m    427\u001b[0m \u001b[1;33m\u001b[0m\u001b[0m\n\u001b[0;32m    428\u001b[0m     \u001b[1;31m# Create the parser.\u001b[0m\u001b[1;33m\u001b[0m\u001b[1;33m\u001b[0m\u001b[1;33m\u001b[0m\u001b[0m\n\u001b[1;32m--> 429\u001b[1;33m     \u001b[0mparser\u001b[0m \u001b[1;33m=\u001b[0m \u001b[0mTextFileReader\u001b[0m\u001b[1;33m(\u001b[0m\u001b[0mfilepath_or_buffer\u001b[0m\u001b[1;33m,\u001b[0m \u001b[1;33m**\u001b[0m\u001b[0mkwds\u001b[0m\u001b[1;33m)\u001b[0m\u001b[1;33m\u001b[0m\u001b[1;33m\u001b[0m\u001b[0m\n\u001b[0m\u001b[0;32m    430\u001b[0m \u001b[1;33m\u001b[0m\u001b[0m\n\u001b[0;32m    431\u001b[0m     \u001b[1;32mif\u001b[0m \u001b[0mchunksize\u001b[0m \u001b[1;32mor\u001b[0m \u001b[0miterator\u001b[0m\u001b[1;33m:\u001b[0m\u001b[1;33m\u001b[0m\u001b[1;33m\u001b[0m\u001b[0m\n",
      "\u001b[1;32m~\\AppData\\Local\\Continuum\\anaconda3\\lib\\site-packages\\pandas\\io\\parsers.py\u001b[0m in \u001b[0;36m__init__\u001b[1;34m(self, f, engine, **kwds)\u001b[0m\n\u001b[0;32m    893\u001b[0m             \u001b[0mself\u001b[0m\u001b[1;33m.\u001b[0m\u001b[0moptions\u001b[0m\u001b[1;33m[\u001b[0m\u001b[1;34m'has_index_names'\u001b[0m\u001b[1;33m]\u001b[0m \u001b[1;33m=\u001b[0m \u001b[0mkwds\u001b[0m\u001b[1;33m[\u001b[0m\u001b[1;34m'has_index_names'\u001b[0m\u001b[1;33m]\u001b[0m\u001b[1;33m\u001b[0m\u001b[1;33m\u001b[0m\u001b[0m\n\u001b[0;32m    894\u001b[0m \u001b[1;33m\u001b[0m\u001b[0m\n\u001b[1;32m--> 895\u001b[1;33m         \u001b[0mself\u001b[0m\u001b[1;33m.\u001b[0m\u001b[0m_make_engine\u001b[0m\u001b[1;33m(\u001b[0m\u001b[0mself\u001b[0m\u001b[1;33m.\u001b[0m\u001b[0mengine\u001b[0m\u001b[1;33m)\u001b[0m\u001b[1;33m\u001b[0m\u001b[1;33m\u001b[0m\u001b[0m\n\u001b[0m\u001b[0;32m    896\u001b[0m \u001b[1;33m\u001b[0m\u001b[0m\n\u001b[0;32m    897\u001b[0m     \u001b[1;32mdef\u001b[0m \u001b[0mclose\u001b[0m\u001b[1;33m(\u001b[0m\u001b[0mself\u001b[0m\u001b[1;33m)\u001b[0m\u001b[1;33m:\u001b[0m\u001b[1;33m\u001b[0m\u001b[1;33m\u001b[0m\u001b[0m\n",
      "\u001b[1;32m~\\AppData\\Local\\Continuum\\anaconda3\\lib\\site-packages\\pandas\\io\\parsers.py\u001b[0m in \u001b[0;36m_make_engine\u001b[1;34m(self, engine)\u001b[0m\n\u001b[0;32m   1120\u001b[0m     \u001b[1;32mdef\u001b[0m \u001b[0m_make_engine\u001b[0m\u001b[1;33m(\u001b[0m\u001b[0mself\u001b[0m\u001b[1;33m,\u001b[0m \u001b[0mengine\u001b[0m\u001b[1;33m=\u001b[0m\u001b[1;34m'c'\u001b[0m\u001b[1;33m)\u001b[0m\u001b[1;33m:\u001b[0m\u001b[1;33m\u001b[0m\u001b[1;33m\u001b[0m\u001b[0m\n\u001b[0;32m   1121\u001b[0m         \u001b[1;32mif\u001b[0m \u001b[0mengine\u001b[0m \u001b[1;33m==\u001b[0m \u001b[1;34m'c'\u001b[0m\u001b[1;33m:\u001b[0m\u001b[1;33m\u001b[0m\u001b[1;33m\u001b[0m\u001b[0m\n\u001b[1;32m-> 1122\u001b[1;33m             \u001b[0mself\u001b[0m\u001b[1;33m.\u001b[0m\u001b[0m_engine\u001b[0m \u001b[1;33m=\u001b[0m \u001b[0mCParserWrapper\u001b[0m\u001b[1;33m(\u001b[0m\u001b[0mself\u001b[0m\u001b[1;33m.\u001b[0m\u001b[0mf\u001b[0m\u001b[1;33m,\u001b[0m \u001b[1;33m**\u001b[0m\u001b[0mself\u001b[0m\u001b[1;33m.\u001b[0m\u001b[0moptions\u001b[0m\u001b[1;33m)\u001b[0m\u001b[1;33m\u001b[0m\u001b[1;33m\u001b[0m\u001b[0m\n\u001b[0m\u001b[0;32m   1123\u001b[0m         \u001b[1;32melse\u001b[0m\u001b[1;33m:\u001b[0m\u001b[1;33m\u001b[0m\u001b[1;33m\u001b[0m\u001b[0m\n\u001b[0;32m   1124\u001b[0m             \u001b[1;32mif\u001b[0m \u001b[0mengine\u001b[0m \u001b[1;33m==\u001b[0m \u001b[1;34m'python'\u001b[0m\u001b[1;33m:\u001b[0m\u001b[1;33m\u001b[0m\u001b[1;33m\u001b[0m\u001b[0m\n",
      "\u001b[1;32m~\\AppData\\Local\\Continuum\\anaconda3\\lib\\site-packages\\pandas\\io\\parsers.py\u001b[0m in \u001b[0;36m__init__\u001b[1;34m(self, src, **kwds)\u001b[0m\n\u001b[0;32m   1851\u001b[0m         \u001b[0mkwds\u001b[0m\u001b[1;33m[\u001b[0m\u001b[1;34m'usecols'\u001b[0m\u001b[1;33m]\u001b[0m \u001b[1;33m=\u001b[0m \u001b[0mself\u001b[0m\u001b[1;33m.\u001b[0m\u001b[0musecols\u001b[0m\u001b[1;33m\u001b[0m\u001b[1;33m\u001b[0m\u001b[0m\n\u001b[0;32m   1852\u001b[0m \u001b[1;33m\u001b[0m\u001b[0m\n\u001b[1;32m-> 1853\u001b[1;33m         \u001b[0mself\u001b[0m\u001b[1;33m.\u001b[0m\u001b[0m_reader\u001b[0m \u001b[1;33m=\u001b[0m \u001b[0mparsers\u001b[0m\u001b[1;33m.\u001b[0m\u001b[0mTextReader\u001b[0m\u001b[1;33m(\u001b[0m\u001b[0msrc\u001b[0m\u001b[1;33m,\u001b[0m \u001b[1;33m**\u001b[0m\u001b[0mkwds\u001b[0m\u001b[1;33m)\u001b[0m\u001b[1;33m\u001b[0m\u001b[1;33m\u001b[0m\u001b[0m\n\u001b[0m\u001b[0;32m   1854\u001b[0m         \u001b[0mself\u001b[0m\u001b[1;33m.\u001b[0m\u001b[0munnamed_cols\u001b[0m \u001b[1;33m=\u001b[0m \u001b[0mself\u001b[0m\u001b[1;33m.\u001b[0m\u001b[0m_reader\u001b[0m\u001b[1;33m.\u001b[0m\u001b[0munnamed_cols\u001b[0m\u001b[1;33m\u001b[0m\u001b[1;33m\u001b[0m\u001b[0m\n\u001b[0;32m   1855\u001b[0m \u001b[1;33m\u001b[0m\u001b[0m\n",
      "\u001b[1;32mpandas/_libs/parsers.pyx\u001b[0m in \u001b[0;36mpandas._libs.parsers.TextReader.__cinit__\u001b[1;34m()\u001b[0m\n",
      "\u001b[1;32mpandas/_libs/parsers.pyx\u001b[0m in \u001b[0;36mpandas._libs.parsers.TextReader._setup_parser_source\u001b[1;34m()\u001b[0m\n",
      "\u001b[1;31mFileNotFoundError\u001b[0m: [Errno 2] File b'train_users_2.csv' does not exist: b'train_users_2.csv'"
     ]
    }
   ],
   "source": [
    "# Importing the necessary libraries\n",
    "import pandas as pd\n",
    "import numpy as np\n",
    "import seaborn as sns\n",
    "import matplotlib.pyplot as plt\n",
    "%matplotlib inline\n",
    "import warnings\n",
    "warnings.filterwarnings(\"ignore\")\n",
    "train_users = pd.read_csv(\"train_users_2.csv\") #https://github.com/FraPochetti/Airbnb/blob/master/data/train_users_2.csv\n",
    "test_users = pd.read_csv(\"test_users.csv\")\n",
    "df = pd.concat((train_users, test_users), axis = 0, ignore_index = True, sort = True)\n",
    "del(train_users)\n",
    "del(test_users)\n",
    "df.gender.replace(\"-unknown-\", np.nan, inplace=True)\n",
    "df.first_browser.replace(\"-unknown-\", np.nan, inplace=True)\n",
    "df.drop(\"date_first_booking\", axis = 1, inplace=True)\n",
    "#df.age.describe()\n",
    "#df.loc[df['age']>1000]['age'].describe()\n",
    "#df.loc[df['age']<18]['age'].describe()\n",
    "df_with_year = df['age'] > 1000\n",
    "df.loc[df_with_year, 'age'] = 2015 - df.loc[df_with_year, 'age']\n",
    "#df.loc[df_with_year, 'age'].describe()\n",
    "df.loc[df.age > 95, 'age'] = np.nan\n",
    "df.loc[df.age < 18, 'age'] = np.nan\n",
    "df['date_account_created'] = pd.to_datetime(df['date_account_created'])\n",
    "df['timestamp_first_active'] = pd.to_datetime((df.timestamp_first_active // 1000000), format='%Y%m%d')\n",
    "df['weekday_account_created'] = df.date_account_created.dt.weekday_name\n",
    "df['day_account_created'] = df.date_account_created.dt.day\n",
    "df['month_account_created'] = df.date_account_created.dt.month\n",
    "df['year_account_created'] = df.date_account_created.dt.year\n",
    "df['weekday_first_active'] = df.timestamp_first_active.dt.weekday_name\n",
    "df['day_first_active'] = df.timestamp_first_active.dt.day\n",
    "df['month_first_active'] = df.timestamp_first_active.dt.month\n",
    "df['year_first_active'] = df.timestamp_first_active.dt.year\n",
    "df['time_lag'] = (df['date_account_created'] - df['timestamp_first_active'])\n",
    "df['time_lag'] = df['time_lag'].astype(pd.Timedelta).apply(lambda l: l.days)\n",
    "df.drop( ['date_account_created', 'timestamp_first_active'], axis=1, inplace=True)\n",
    "df['age'].fillna(-1, inplace=True)\n",
    "sessions = pd.read_csv(\"sessions.csv\")\n",
    "sessions.rename(columns = {'user_id': 'id'}, inplace=True)\n",
    "action_count = sessions.groupby(['id', 'action'])['secs_elapsed'].agg(len).unstack()\n",
    "action_type_count = sessions.groupby(['id', 'action_type'])['secs_elapsed'].agg(len).unstack()\n",
    "action_detail_count = sessions.groupby(['id', 'action_detail'])['secs_elapsed'].agg(len).unstack()\n",
    "device_type_sum = sessions.groupby(['id', 'device_type'])['secs_elapsed'].agg(sum).unstack()\n",
    "sessions_data = pd.concat([action_count, action_type_count, action_detail_count, device_type_sum],axis=1)\n",
    "sessions_data.columns = sessions_data.columns.map(lambda x: str(x) + '_count')\n",
    "\n",
    "sessions_data['most_used_device'] = sessions.groupby('id')['device_type'].max()\n",
    "secs_elapsed = sessions.groupby('id')['secs_elapsed']\n",
    "secs_elapsed = secs_elapsed.agg(\n",
    "    {\n",
    "        'secs_elapsed_sum': np.sum,\n",
    "        'secs_elapsed_mean': np.mean,\n",
    "        'secs_elapsed_min': np.min,\n",
    "        'secs_elapsed_max': np.max,\n",
    "        'secs_elapsed_median': np.median,\n",
    "        'secs_elapsed_std': np.std,\n",
    "        'secs_elapsed_var': np.var,\n",
    "        'day_pauses': lambda x: (x > 86400).sum(),\n",
    "        'long_pauses': lambda x: (x > 300000).sum(),\n",
    "        'short_pauses': lambda x: (x < 3600).sum(),\n",
    "        'session_length' : np.count_nonzero#    \n",
    "    }\n",
    ")\n",
    "secs_elapsed.reset_index(inplace=True)\n",
    "sessions_data.index.name = 'id'\n",
    "sessions_secs_elapsed = pd.merge(sessions_data, secs_elapsed, on='id', how='left')\n",
    "df = pd.merge(df, sessions_secs_elapsed, on='id', how = 'left')"
   ]
  },
  {
   "cell_type": "code",
   "execution_count": 4,
   "metadata": {},
   "outputs": [],
   "source": [
    "#Encoding the categorical features\n",
    "categorical_features = ['gender', 'signup_method', 'signup_flow', 'language','affiliate_channel', 'affiliate_provider', 'first_affiliate_tracked', 'signup_app', 'first_device_type', 'first_browser', 'most_used_device', 'weekday_account_created', 'weekday_first_active']\n",
    "df = pd.get_dummies(df, columns=categorical_features)\n",
    "df.set_index('id', inplace=True)"
   ]
  },
  {
   "cell_type": "code",
   "execution_count": 3,
   "metadata": {},
   "outputs": [],
   "source": [
    "train_users = pd.read_csv(\"train_users_2.csv\")\n",
    "test_users = pd.read_csv(\"test_users.csv\")\n",
    "#Creating train dataset\n",
    "train_df = df.loc[train_users['id']]\n",
    "train_df.reset_index(inplace=True)\n",
    "train_df.fillna(-1, inplace=True)\n",
    "#Creating target variable for the train dataset\n",
    "y_train = train_df['country_destination']\n",
    "train_df.drop(['country_destination', 'id'], axis=1, inplace=True)"
   ]
  },
  {
   "cell_type": "code",
   "execution_count": 4,
   "metadata": {},
   "outputs": [],
   "source": [
    "test_df = df.loc[test_users['id']].drop('country_destination', axis=1)\n",
    "test_df.reset_index(inplace=True)\n",
    "test_df.drop('id', axis=1, inplace=True)"
   ]
  },
  {
   "cell_type": "code",
   "execution_count": 5,
   "metadata": {},
   "outputs": [],
   "source": [
    "train_df = train_df.loc[:,~train_df.columns.duplicated()]\n",
    "#test_df.columns[test_df.columns.duplicated()]\n",
    "test_df = test_df.loc[:,~test_df.columns.duplicated()]"
   ]
  },
  {
   "cell_type": "code",
   "execution_count": 6,
   "metadata": {},
   "outputs": [
    {
     "data": {
      "image/png": "[encoded data removed]",
      "text/plain": [
       "<Figure size 720x360 with 1 Axes>"
      ]
     },
     "metadata": {},
     "output_type": "display_data"
    }
   ],
   "source": [
    "from sklearn.naive_bayes import GaussianNB\n",
    "from sklearn.naive_bayes import BernoulliNB\n",
    "from sklearn.naive_bayes import MultinomialNB\n",
    "from sklearn.neural_network import MLPClassifier\n",
    "from sklearn import model_selection\n",
    "import sklearn.metrics as metrics\n",
    "import xgboost as xgb\n",
    "from xgboost import XGBClassifier\n",
    "from sklearn import tree\n",
    "#***************************************************INPUTS***********************************************************************\n",
    "\n",
    "#Below are Naive Bayes model types\n",
    "#These are the three models we'll be testing. To best attempt F_score maxima, models will have no prior fit from previous attempts.\n",
    "#GaussianNB is false in this way by default.\n",
    "#model_type = [BernoulliNB(fit_prior=False),GaussianNB(),MultinomialNB(fit_prior=False),XGBClassifier(),tree.DecisionTreeClassifier()]\n",
    "\n",
    "#Neural nets can also be used but will take longer to converge\n",
    "#model_type = [MLPClassifier(solver='lbfgs', alpha=1e-5,hidden_layer_sizes=(5, 2)),MLPClassifier(solver='adam', alpha=1e-5,max_iter=10000,hidden_layer_sizes=(5, 2)),MLPClassifier(solver='sgd', alpha=1e-5,max_iter=10000,hidden_layer_sizes=(5, 2))]\n",
    "\n",
    "#Naive Bayes has obtained ~ 0.43 F fit, Neural Nets ~ 0.56 though unreliably. Going to lastly test xgb and decision tree F test.\n",
    "model_type = [XGBClassifier()] #max_depth=10,num_class=12\n",
    "\n",
    "#Each model/train size/seeds converges on a different solution. How many subdivisions of starting points would you like to try?\n",
    "seeds = 3\n",
    "#The model(s) perform differently with different amounts of training. How many equally spaced percentages would you like to send?\n",
    "train_steps = 3\n",
    "target = 'country_destination'\n",
    "value = 'NDF'\n",
    "\n",
    "#*******************************************************************************************************************************\n",
    "\n",
    "#Makes ndarray of equally spaced train fractions to send to the model.\n",
    "train_frac = np.linspace(0.1,0.9,train_steps)\n",
    "#Makes ndarray of equally spaced starting points for the model to find convergence over the sample space.\n",
    "states = np.linspace(0,df.shape[0],seeds, dtype=int)\n",
    "\n",
    "#Creating test set\n",
    "#test_df = df.loc[test_users['id']].drop('country_destination', axis=1)\n",
    "#test_df.reset_index(inplace=True)\n",
    "#id_test = test_df['id']\n",
    "#test_df.drop('id', axis=1, inplace=True)\n",
    "\n",
    "Y = y_train\n",
    "#Xt = pd.get_dummies(test_df)\n",
    "#X = pd.get_dummies(train_df)\n",
    "X = train_df\n",
    "\n",
    "#This class assesses the fitness metrics of the trained model\n",
    "def fit_model(X,Y,states,model,train_size):\n",
    "    #Iterate over each starting point seed, a different starting state\n",
    "    for state in states:\n",
    "        #Take the model type passed in\n",
    "        clf = model\n",
    "        #train_test_split randomly splits the data into a train_size fraction of how much data the model is trained with\n",
    "        X_train, X_test, Y_train, Y_test = model_selection.train_test_split(X, Y, test_size=train_size, random_state=state)\n",
    "        #the model is fitted based on the training data\n",
    "        clf = clf.fit(X_train, Y_train)\n",
    "        #Ignoring warnings from model because it may not be able to have sufficient data to predict every target\n",
    "        with warnings.catch_warnings():\n",
    "            warnings.simplefilter(\"ignore\")\n",
    "            #Precision & Recall are each different statistical measures of fitness\n",
    "            #Precision is true positives/(true positives + false positives)\n",
    "            precision = metrics.precision_score(Y_test, clf.predict(X_test), average='weighted')\n",
    "            #Recall is true positives/(true positives + false negatives)\n",
    "            recall = metrics.recall_score(Y_test, clf.predict(X_test), average='weighted')\n",
    "            #F score is the weighted mean of precision and recall\n",
    "            f_score = 2/(1/precision+1/recall)\n",
    "        F = f_score\n",
    "        #y_pred = clf.predict(X_test)\n",
    "        results_params[state] = F\n",
    "    return results_params\n",
    "\n",
    "#Set parameter names to be part of dictionary\n",
    "params = ['F','state','train_size']\n",
    "#Create empty dictionary of these parameter names\n",
    "param_dict = {param: None for param in params}\n",
    "#Create empty dictionary to be filled with each model to each parameter dictionary\n",
    "model_dict = {model_name: param_dict for model_name in model_type}\n",
    "#Iterate over input model types\n",
    "for model in model_type:\n",
    "    #Make empty dictionaries for interim use\n",
    "    df3_params, results_params = {},{}\n",
    "    #Iterate over what fraction of data is fed to model\n",
    "    for train_size in train_frac:\n",
    "        #Obtain results as dictionaries of seed sample states to each resultant F_score/ill_defined_sites from the model\n",
    "        results_params = fit_model(X,Y,states,model,train_size)\n",
    "        #Put each result in a dictionary for the train size used\n",
    "        df3_params.update({train_size:pd.Series(results_params)})\n",
    "        \n",
    "    #Make empty dictionary to be filled with the best parameters for each model\n",
    "    best = {}\n",
    "    #Iterate over the train sizes to store the best F_score and its best parameters\n",
    "    for key in df3_params.keys():\n",
    "        #If this F_score is the first one or the maximum so far, store the settings\n",
    "        if not best or best['F'] < df3_params[key].max():\n",
    "            #Store this in the best dictionary\n",
    "            best = {'train_size':key,'state':df3_params[key].idxmax(),'F':df3_params[key].max()}\n",
    "    #If the highest F_score for that model was not 0\n",
    "    if best['F']:\n",
    "        #Store the best settings and F_score for each model\n",
    "        model_dict.update({model:best})\n",
    "    else:\n",
    "        #Drop that model from the dictionary if it has no F_score\n",
    "        model_dict.pop(model)\n",
    "        \n",
    "#Make empty dictionary to store the best model and its settings in\n",
    "results_params, best_model = {}, {}\n",
    "\n",
    "#Build a dictionary of the best model's settings based on F score\n",
    "for model in model_dict.keys():\n",
    "    #If dictionary empty or current iterated F score is better than stored value\n",
    "    if not best_model or best_model['F'] < model_dict[model]['F']:\n",
    "        #Store the train size\n",
    "        model_train_size = model_dict[model]['train_size']\n",
    "        #Store the random seed state\n",
    "        model_state = model_dict[model]['state']\n",
    "        #Store the best F score\n",
    "        model_F = model_dict[model]['F']\n",
    "        #Create the best model dictionary\n",
    "        best_model = {'model': model,'state':model_state,'train_size':model_train_size,'F':model_F}\n",
    "\n",
    "#Fit the model with these best settings\n",
    "results_params = fit_model(X,Y,states,best_model['model'],best_model['train_size'])\n",
    "\n",
    "#Find out how much the avg_F of a model run with optimal parameters differs from the best F obtained from all models/train sizes/seeds\n",
    "total = 0\n",
    "for key in results_params.keys():\n",
    "    total += results_params[key]\n",
    "avg_F = total/len(results_params.keys())\n",
    "\n",
    "#The rest is building the graph\n",
    "#Import regular expressions\n",
    "import re\n",
    "#This pulls out the model name from the full name including all its settings\n",
    "title = re.search('[^(]*',str(best_model['model']))\n",
    "solver = re.search(\"solver='.*'\",str(best_model['model']))\n",
    "#Size of the figure in x and y\n",
    "plt.figure(figsize=(10,5))\n",
    "#Plot the F score against the random starting seed\n",
    "plt.plot(results_params.keys(), results_params.values(), color='orange',marker='*')\n",
    "#Horizontal green line as the average of this best model run across starting seeds\n",
    "plt.axhline(y=avg_F,linewidth=2, color='g')\n",
    "#Horizontal black line as the best value\n",
    "plt.axhline(y=best_model['F'],linewidth=2, color='black')\n",
    "#Display the regular expression of the model plus more about the graph\n",
    "#If MLPClassifier Neural Nets were used, want to include the solver type in the title\n",
    "if (title.group(0) == \"MLPClassifier\"):\n",
    "    plt.title(title.group(0) + \" \" + solver.group(0) +' Best Parameter Fit')\n",
    "#Otherwise, just show the type of Naive Bayes model that was best which is just in title alone\n",
    "else:\n",
    "    plt.title(title.group(0) + ' Best Parameter Fit')\n",
    "#Label x\n",
    "plt.xlabel('Seed Samples')\n",
    "#Label y\n",
    "plt.ylabel('F_Score');"
   ]
  },
  {
   "cell_type": "code",
   "execution_count": 7,
   "metadata": {},
   "outputs": [
    {
     "data": {
      "text/plain": [
       "{'model': XGBClassifier(base_score=0.5, booster='gbtree', colsample_bylevel=1,\n",
       "        colsample_bynode=1, colsample_bytree=1, gamma=0, learning_rate=0.1,\n",
       "        max_delta_step=0, max_depth=3, min_child_weight=1, missing=None,\n",
       "        n_estimators=100, n_jobs=1, nthread=None,\n",
       "        objective='multi:softprob', random_state=0, reg_alpha=0,\n",
       "        reg_lambda=1, scale_pos_weight=1, seed=None, silent=None,\n",
       "        subsample=1, verbosity=1),\n",
       " 'state': 137773,\n",
       " 'train_size': 0.9,\n",
       " 'F': 0.6132920181623189}"
      ]
     },
     "execution_count": 7,
     "metadata": {},
     "output_type": "execute_result"
    }
   ],
   "source": [
    "best_model"
   ]
  },
  {
   "cell_type": "code",
   "execution_count": null,
   "metadata": {},
   "outputs": [],
   "source": [
    "clf = XGBClassifier(max_depth=10,\n",
    "    learning_rate=1,\n",
    "    n_estimators=100,\n",
    "    objective='count:poisson',\n",
    "    num_class=12,\n",
    "    gamma=0,\n",
    "    min_child_weight=1,\n",
    "    max_delta_step=0,\n",
    "    subsample=1,\n",
    "    colsample_bytree=1,\n",
    "    colsample_bylevel=1,\n",
    "    reg_alpha=0,\n",
    "    reg_lambda=1,\n",
    "    scale_pos_weight=1,\n",
    "    base_score=0.5,\n",
    "    missing=None,\n",
    "    nthread=4,\n",
    "    seed=42)\n",
    "X_train, X_test, Y_train, Y_test = model_selection.train_test_split(X, Y, test_size=best_model['train_size'], random_state=best_model['state'])\n",
    "clf = clf.fit(X_train, Y_train)\n",
    "y_pred_train = clf.predict(X)\n",
    "sum(y_train == y_pred_train)/y_train.size*100"
   ]
  },
  {
   "cell_type": "code",
   "execution_count": 18,
   "metadata": {},
   "outputs": [
    {
     "data": {
      "text/plain": [
       "{'AU': 99,\n",
       " 'CA': 340,\n",
       " 'DE': 236,\n",
       " 'ES': 550,\n",
       " 'FR': 1567,\n",
       " 'GB': 592,\n",
       " 'IT': 703,\n",
       " 'NDF': 140914,\n",
       " 'NL': 158,\n",
       " 'PT': 25,\n",
       " 'US': 64177,\n",
       " 'other': 4090}"
      ]
     },
     "execution_count": 18,
     "metadata": {},
     "output_type": "execute_result"
    }
   ],
   "source": [
    "unique, counts = np.unique(y_pred_train, return_counts=True)\n",
    "dict(zip(unique, counts))"
   ]
  },
  {
   "cell_type": "code",
   "execution_count": 19,
   "metadata": {},
   "outputs": [
    {
     "name": "stderr",
     "output_type": "stream",
     "text": [
      "C:\\Users\\mmcgown\\AppData\\Local\\Continuum\\anaconda3\\lib\\site-packages\\sklearn\\preprocessing\\label.py:151: DeprecationWarning: The truth value of an empty array is ambiguous. Returning False, but in future this will result in an error. Use `array.size > 0` to check that an array is not empty.\n",
      "  if diff:\n"
     ]
    }
   ],
   "source": [
    "Xt = pd.get_dummies(test_df)\n",
    "y_pred = clf.predict(Xt)"
   ]
  },
  {
   "cell_type": "code",
   "execution_count": 20,
   "metadata": {},
   "outputs": [],
   "source": [
    "predict = pd.DataFrame(np.column_stack((test_users['id'],y_pred)), columns=['id', 'country'])"
   ]
  },
  {
   "cell_type": "code",
   "execution_count": 21,
   "metadata": {},
   "outputs": [],
   "source": [
    "predict.head()\n",
    "predict.to_csv('prediction.csv',index=False)"
   ]
  }
 ],
 "metadata": {
  "kernelspec": {
   "display_name": "Python 3",
   "language": "python",
   "name": "python3"
  },
  "language_info": {
   "codemirror_mode": {
    "name": "ipython",
    "version": 3
   },
   "file_extension": ".py",
   "mimetype": "text/x-python",
   "name": "python",
   "nbconvert_exporter": "python",
   "pygments_lexer": "ipython3",
   "version": "3.7.3"
  }
 },
 "nbformat": 4,
 "nbformat_minor": 2
}
